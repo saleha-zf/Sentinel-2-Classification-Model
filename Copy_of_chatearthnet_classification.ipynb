{
  "cells": [
    {
      "cell_type": "markdown",
      "metadata": {
        "id": "Zj5LON44MUxK"
      },
      "source": [
        "**<h1>CHATEARTHNET</h1>**"
      ]
    },
    {
      "cell_type": "code",
      "execution_count": 13,
      "metadata": {
        "colab": {
          "base_uri": "https://localhost:8080/"
        },
        "id": "7s2puy-FfYCf",
        "outputId": "5548b97a-08f7-4975-9d7b-10c697a0eab7"
      },
      "outputs": [
        {
          "output_type": "stream",
          "name": "stdout",
          "text": [
            "Requirement already satisfied: rasterio in /usr/local/lib/python3.10/dist-packages (1.3.10)\n",
            "Requirement already satisfied: affine in /usr/local/lib/python3.10/dist-packages (from rasterio) (2.4.0)\n",
            "Requirement already satisfied: attrs in /usr/local/lib/python3.10/dist-packages (from rasterio) (24.2.0)\n",
            "Requirement already satisfied: certifi in /usr/local/lib/python3.10/dist-packages (from rasterio) (2024.7.4)\n",
            "Requirement already satisfied: click>=4.0 in /usr/local/lib/python3.10/dist-packages (from rasterio) (8.1.7)\n",
            "Requirement already satisfied: cligj>=0.5 in /usr/local/lib/python3.10/dist-packages (from rasterio) (0.7.2)\n",
            "Requirement already satisfied: numpy in /usr/local/lib/python3.10/dist-packages (from rasterio) (1.26.4)\n",
            "Requirement already satisfied: snuggs>=1.4.1 in /usr/local/lib/python3.10/dist-packages (from rasterio) (1.4.7)\n",
            "Requirement already satisfied: click-plugins in /usr/local/lib/python3.10/dist-packages (from rasterio) (1.1.1)\n",
            "Requirement already satisfied: setuptools in /usr/local/lib/python3.10/dist-packages (from rasterio) (71.0.4)\n",
            "Requirement already satisfied: pyparsing>=2.1.6 in /usr/local/lib/python3.10/dist-packages (from snuggs>=1.4.1->rasterio) (3.1.4)\n"
          ]
        }
      ],
      "source": [
        "pip install rasterio\n"
      ]
    },
    {
      "cell_type": "code",
      "source": [
        "  pip install --upgrade keras"
      ],
      "metadata": {
        "colab": {
          "base_uri": "https://localhost:8080/"
        },
        "id": "zApOxcwdZ6dy",
        "outputId": "1b57b601-fde2-4ce3-a12e-f256d7db4a5e"
      },
      "execution_count": 14,
      "outputs": [
        {
          "output_type": "stream",
          "name": "stdout",
          "text": [
            "Requirement already satisfied: keras in /usr/local/lib/python3.10/dist-packages (3.5.0)\n",
            "Requirement already satisfied: absl-py in /usr/local/lib/python3.10/dist-packages (from keras) (1.4.0)\n",
            "Requirement already satisfied: numpy in /usr/local/lib/python3.10/dist-packages (from keras) (1.26.4)\n",
            "Requirement already satisfied: rich in /usr/local/lib/python3.10/dist-packages (from keras) (13.8.0)\n",
            "Requirement already satisfied: namex in /usr/local/lib/python3.10/dist-packages (from keras) (0.0.8)\n",
            "Requirement already satisfied: h5py in /usr/local/lib/python3.10/dist-packages (from keras) (3.11.0)\n",
            "Requirement already satisfied: optree in /usr/local/lib/python3.10/dist-packages (from keras) (0.12.1)\n",
            "Requirement already satisfied: ml-dtypes in /usr/local/lib/python3.10/dist-packages (from keras) (0.4.0)\n",
            "Requirement already satisfied: packaging in /usr/local/lib/python3.10/dist-packages (from keras) (24.1)\n",
            "Requirement already satisfied: typing-extensions>=4.5.0 in /usr/local/lib/python3.10/dist-packages (from optree->keras) (4.12.2)\n",
            "Requirement already satisfied: markdown-it-py>=2.2.0 in /usr/local/lib/python3.10/dist-packages (from rich->keras) (3.0.0)\n",
            "Requirement already satisfied: pygments<3.0.0,>=2.13.0 in /usr/local/lib/python3.10/dist-packages (from rich->keras) (2.16.1)\n",
            "Requirement already satisfied: mdurl~=0.1 in /usr/local/lib/python3.10/dist-packages (from markdown-it-py>=2.2.0->rich->keras) (0.1.2)\n"
          ]
        }
      ]
    },
    {
      "cell_type": "code",
      "execution_count": 15,
      "metadata": {
        "id": "2fWPOpmHMsW0"
      },
      "outputs": [],
      "source": [
        "#import ee\n",
        "import os\n",
        "import requests\n",
        "from io import BytesIO\n",
        "import matplotlib.pyplot as plt\n",
        "import seaborn as sns\n",
        "import numpy as np\n",
        "from typing import Any, Optional, Tuple\n",
        "import glob\n",
        "import keras\n",
        "import keras\n",
        "from keras.utils import to_categorical\n",
        "from keras.models import Sequential\n",
        "from keras.layers import Dense, Dropout, Flatten\n",
        "from keras.layers import Conv2D, MaxPooling2D\n",
        "from keras.preprocessing import image\n",
        "from keras.layers import BatchNormalization\n",
        "from keras.optimizers import Adam\n",
        "from keras.callbacks import LearningRateScheduler\n",
        "from keras.applications import ResNet50, VGG19, VGG16\n",
        "from keras.applications.resnet50 import preprocess_input\n",
        "from keras import optimizers\n",
        "import shutil\n",
        "from PIL import Image, ImageOps\n",
        "import pandas as pd\n",
        "from sklearn.metrics import confusion_matrix, multilabel_confusion_matrix, classification_report, ConfusionMatrixDisplay\n",
        "import tensorflow as tf\n",
        "from tensorflow.keras.preprocessing.image import ImageDataGenerator, array_to_img\n",
        "from keras import models, layers, optimizers, regularizers\n",
        "from tensorflow.keras import Model\n",
        "from tensorflow.data.experimental import cardinality\n",
        "from tensorflow.keras.utils import to_categorical\n",
        "from tensorflow.keras.models import Sequential\n",
        "from tensorflow.keras.layers import Dense # creates densely connected layer object\n",
        "from tensorflow.keras.layers import Flatten # takes 2D input and turns into 1D array\n",
        "from tensorflow.keras.layers import Conv2D # convolution layer\n",
        "from tensorflow.keras.layers import MaxPooling2D # max pooling layer\n",
        "from tensorflow.keras.callbacks import EarlyStopping, ModelCheckpoint"
      ]
    },
    {
      "cell_type": "code",
      "execution_count": 16,
      "metadata": {
        "colab": {
          "base_uri": "https://localhost:8080/"
        },
        "id": "LvWbpkngaDH4",
        "outputId": "812cecc9-6fa3-4151-8f7f-78fcf972aee3"
      },
      "outputs": [
        {
          "output_type": "stream",
          "name": "stdout",
          "text": [
            "Drive already mounted at /content/gdrive; to attempt to forcibly remount, call drive.mount(\"/content/gdrive\", force_remount=True).\n"
          ]
        }
      ],
      "source": [
        "#import Google drive in Google Colab\n",
        "from google.colab import drive\n",
        "drive.mount('/content/gdrive')"
      ]
    },
    {
      "cell_type": "code",
      "execution_count": 17,
      "metadata": {
        "collapsed": true,
        "id": "WKMaT4aFaDLV",
        "colab": {
          "base_uri": "https://localhost:8080/"
        },
        "outputId": "228bd82e-4403-48a3-cdb9-80520c316182"
      },
      "outputs": [
        {
          "output_type": "stream",
          "name": "stdout",
          "text": [
            "Archive:  /content/gdrive/MyDrive/EuroSAT_RGB.zip\n",
            "replace /content/eurosat_folder/EuroSAT_RGB/Forest/Forest_864.jpg? [y]es, [n]o, [A]ll, [N]one, [r]ename: N\n"
          ]
        }
      ],
      "source": [
        "\n",
        "dataset_path= '/content/gdrive/MyDrive/EuroSAT_RGB.zip'\n",
        "!unzip \"{dataset_path}\" -d /content/eurosat_folder"
      ]
    },
    {
      "cell_type": "code",
      "source": [
        "#specifying each class's location\n",
        "\n",
        "data_AnnualCrop= '/content/eurosat_folder/EuroSAT_RGB/AnnualCrop'\n",
        "data_Forest= '/content/eurosat_folder/EuroSAT_RGB/Forest'\n",
        "data_HerbaceousVegetation= '/content/eurosat_folder/EuroSAT_RGB/HerbaceousVegetation'\n",
        "data_Highway= '/content/eurosat_folder/EuroSAT_RGB/Highway'\n",
        "data_Industrial= '/content/eurosat_folder/EuroSAT_RGB/Industrial'\n",
        "data_Pasture= '/content/eurosat_folder/EuroSAT_RGB/Pasture'\n",
        "data_PermanentCrop= '/content/eurosat_folder/EuroSAT_RGB/PermanentCrop'\n",
        "data_Residential= '/content/eurosat_folder/EuroSAT_RGB/Residential'\n",
        "data_River= '/content/eurosat_folder/EuroSAT_RGB/River'\n",
        "data_SeaLake= '/content/eurosat_folder/EuroSAT_RGB/SeaLake'\n",
        "new_directory= '/content/split/'"
      ],
      "metadata": {
        "id": "YQZFdHMpJuBK"
      },
      "execution_count": 18,
      "outputs": []
    },
    {
      "cell_type": "code",
      "source": [
        "imgs_AnnualCrop= [file for file in os.listdir(data_AnnualCrop) if file.endswith('.jpg')]\n",
        "imgs_Forest= [file for file in os.listdir(data_Forest) if file.endswith('.jpg')]\n",
        "imgs_HerbaceousVegetation= [file for file in os.listdir(data_HerbaceousVegetation) if file.endswith('.jpg')]\n",
        "imgs_Highway= [file for file in os.listdir(data_Highway) if file.endswith('.jpg')]\n",
        "imgs_Industrial= [file for file in os.listdir(data_Industrial) if file.endswith('.jpg')]\n",
        "imgs_Pasture= [file for file in os.listdir(data_Pasture) if file.endswith('.jpg')]\n",
        "imgs_PermanentCrop= [file for file in os.listdir(data_PermanentCrop) if file.endswith('.jpg')]\n",
        "imgs_Residential= [file for file in os.listdir(data_Residential) if file.endswith('.jpg')]\n",
        "imgs_River= [file for file in os.listdir(data_River) if file.endswith('.jpg')]\n",
        "imgs_SeaLake= [file for file in os.listdir(data_SeaLake) if file.endswith('.jpg')]"
      ],
      "metadata": {
        "id": "37NmcIvhK0wH"
      },
      "execution_count": 19,
      "outputs": []
    },
    {
      "cell_type": "code",
      "source": [
        "os.mkdir(new_directory)"
      ],
      "metadata": {
        "id": "6ggPyXq4LU7a"
      },
      "execution_count": 20,
      "outputs": []
    },
    {
      "cell_type": "code",
      "source": [
        "# setting up train folders\n",
        "train_folder= os.path.join(new_directory, 'train')\n",
        "train_AnnualCrop= os.path.join(train_folder, 'AnnualCrop')\n",
        "train_Forest= os.path.join(train_folder, 'Forest')\n",
        "train_HerbaceousVegetation= os.path.join(train_folder, 'HerbaceousVegetation')\n",
        "train_Highway= os.path.join(train_folder, 'Highway')\n",
        "train_Industrial= os.path.join(train_folder, 'Industrial')\n",
        "train_Pasture= os.path.join(train_folder, 'Pasture')\n",
        "train_PermanentCrop= os.path.join(train_folder, 'PermanentCrop')\n",
        "train_Residential= os.path.join(train_folder, 'Residential')\n",
        "train_River= os.path.join(train_folder, 'River')\n",
        "train_SeaLake= os.path.join(train_folder, 'SeaLake')\n",
        "# setting up test folders\n",
        "test_folder= os.path.join(new_directory, 'test')\n",
        "test_AnnualCrop= os.path.join(test_folder, 'AnnualCrop')\n",
        "test_Forest= os.path.join(test_folder, 'Forest')\n",
        "test_HerbaceousVegetation= os.path.join(test_folder, 'HerbaceousVegetation')\n",
        "test_Highway= os.path.join(test_folder, 'Highway')\n",
        "test_Industrial= os.path.join(test_folder, 'Industrial')\n",
        "test_Pasture= os.path.join(test_folder, 'Pasture')\n",
        "test_PermanentCrop= os.path.join(test_folder, 'PermanentCrop')\n",
        "test_Residential= os.path.join(test_folder, 'Residential')\n",
        "test_River= os.path.join(test_folder, 'River')\n",
        "test_SeaLake= os.path.join(test_folder, 'SeaLake')"
      ],
      "metadata": {
        "id": "Q9mf5ag3LU9Q"
      },
      "execution_count": 21,
      "outputs": []
    },
    {
      "cell_type": "code",
      "source": [
        "# train directories\n",
        "os.mkdir(train_folder)\n",
        "os.mkdir(train_AnnualCrop)\n",
        "os.mkdir(train_Forest)\n",
        "os.mkdir(train_HerbaceousVegetation)\n",
        "os.mkdir(train_Highway)\n",
        "os.mkdir(train_Industrial)\n",
        "os.mkdir(train_Pasture)\n",
        "os.mkdir(train_PermanentCrop)\n",
        "os.mkdir(train_Residential)\n",
        "os.mkdir(train_River)\n",
        "os.mkdir(train_SeaLake)\n",
        "# test directories\n",
        "os.mkdir(test_folder)\n",
        "os.mkdir(test_AnnualCrop)\n",
        "os.mkdir(test_Forest)\n",
        "os.mkdir(test_HerbaceousVegetation)\n",
        "os.mkdir(test_Highway)\n",
        "os.mkdir(test_Industrial)\n",
        "os.mkdir(test_Pasture)\n",
        "os.mkdir(test_PermanentCrop)\n",
        "os.mkdir(test_Residential)\n",
        "os.mkdir(test_River)\n",
        "os.mkdir(test_SeaLake)"
      ],
      "metadata": {
        "id": "OJkbYKaRLVA0"
      },
      "execution_count": 22,
      "outputs": []
    },
    {
      "cell_type": "code",
      "source": [
        "# split 80% of images into folders- Train\n",
        "images= imgs_AnnualCrop[:2400]\n",
        "for img in images:\n",
        "    origin= os.path.join(data_AnnualCrop, img)\n",
        "    destination= os.path.join(train_AnnualCrop, img)\n",
        "    shutil.copyfile(origin, destination)\n",
        "\n",
        "images= imgs_Forest[:2400]\n",
        "for img in images:\n",
        "    origin= os.path.join(data_Forest, img)\n",
        "    destination= os.path.join(train_Forest, img)\n",
        "    shutil.copyfile(origin, destination)\n",
        "\n",
        "images= imgs_HerbaceousVegetation[:2400]\n",
        "for img in images:\n",
        "    origin= os.path.join(data_HerbaceousVegetation, img)\n",
        "    destination= os.path.join(train_HerbaceousVegetation, img)\n",
        "    shutil.copyfile(origin, destination)\n",
        "\n",
        "images= imgs_Highway[:2000]\n",
        "for img in images:\n",
        "    origin= os.path.join(data_Highway, img)\n",
        "    destination= os.path.join(train_Highway, img)\n",
        "    shutil.copyfile(origin, destination)\n",
        "\n",
        "images= imgs_Industrial[:2000]\n",
        "for img in images:\n",
        "    origin= os.path.join(data_Industrial, img)\n",
        "    destination= os.path.join(train_Industrial, img)\n",
        "    shutil.copyfile(origin, destination)\n",
        "\n",
        "images= imgs_Pasture[:1600]\n",
        "for img in images:\n",
        "    origin= os.path.join(data_Pasture, img)\n",
        "    destination= os.path.join(train_Pasture, img)\n",
        "    shutil.copyfile(origin, destination)\n",
        "\n",
        "images= imgs_PermanentCrop[:2000]\n",
        "for img in images:\n",
        "    origin= os.path.join(data_PermanentCrop, img)\n",
        "    destination= os.path.join(train_PermanentCrop, img)\n",
        "    shutil.copyfile(origin, destination)\n",
        "\n",
        "images= imgs_Residential[:2400]\n",
        "for img in images:\n",
        "    origin= os.path.join(data_Residential, img)\n",
        "    destination= os.path.join(train_Residential, img)\n",
        "    shutil.copyfile(origin, destination)\n",
        "\n",
        "images= imgs_River[:2000]\n",
        "for img in images:\n",
        "    origin= os.path.join(data_River, img)\n",
        "    destination= os.path.join(train_River, img)\n",
        "    shutil.copyfile(origin, destination)\n",
        "\n",
        "images= imgs_SeaLake[:2400]\n",
        "for img in images:\n",
        "    origin= os.path.join(data_SeaLake, img)\n",
        "    destination= os.path.join(train_SeaLake, img)\n",
        "    shutil.copyfile(origin, destination)"
      ],
      "metadata": {
        "id": "cVIxVXQ4MNKO"
      },
      "execution_count": 23,
      "outputs": []
    },
    {
      "cell_type": "code",
      "source": [
        "# split other 20% of images into folders- Test\n",
        "images= imgs_AnnualCrop[2400:] #600\n",
        "for img in images:\n",
        "    origin= os.path.join(data_AnnualCrop, img)\n",
        "    destination= os.path.join(test_AnnualCrop, img)\n",
        "    shutil.copyfile(origin, destination)\n",
        "\n",
        "images= imgs_Forest[2400:] #600\n",
        "for img in images:\n",
        "    origin= os.path.join(data_Forest, img)\n",
        "    destination= os.path.join(test_Forest, img)\n",
        "    shutil.copyfile(origin, destination)\n",
        "\n",
        "images= imgs_HerbaceousVegetation[2400:] #600\n",
        "for img in images:\n",
        "    origin= os.path.join(data_HerbaceousVegetation, img)\n",
        "    destination= os.path.join(test_HerbaceousVegetation, img)\n",
        "    shutil.copyfile(origin, destination)\n",
        "\n",
        "images= imgs_Highway[2000:] #500\n",
        "for img in images:\n",
        "    origin= os.path.join(data_Highway, img)\n",
        "    destination= os.path.join(test_Highway, img)\n",
        "    shutil.copyfile(origin, destination)\n",
        "\n",
        "images= imgs_Industrial[2000:] #500\n",
        "for img in images:\n",
        "    origin= os.path.join(data_Industrial, img)\n",
        "    destination= os.path.join(test_Industrial, img)\n",
        "    shutil.copyfile(origin, destination)\n",
        "\n",
        "images= imgs_Pasture[1600:] #400\n",
        "for img in images:\n",
        "    origin= os.path.join(data_Pasture, img)\n",
        "    destination= os.path.join(test_Pasture, img)\n",
        "    shutil.copyfile(origin, destination)\n",
        "\n",
        "images= imgs_PermanentCrop[2000:] #500\n",
        "for img in images:\n",
        "    origin= os.path.join(data_PermanentCrop, img)\n",
        "    destination= os.path.join(test_PermanentCrop, img)\n",
        "    shutil.copyfile(origin, destination)\n",
        "\n",
        "images= imgs_Residential[2400:] #600\n",
        "for img in images:\n",
        "    origin= os.path.join(data_Residential, img)\n",
        "    destination= os.path.join(test_Residential, img)\n",
        "    shutil.copyfile(origin, destination)\n",
        "\n",
        "images= imgs_River[2000:] #500\n",
        "for img in images:\n",
        "    origin= os.path.join(data_River, img)\n",
        "    destination= os.path.join(test_River, img)\n",
        "    shutil.copyfile(origin, destination)\n",
        "\n",
        "images= imgs_SeaLake[2400:] #600\n",
        "for img in images:\n",
        "    origin= os.path.join(data_SeaLake, img)\n",
        "    destination= os.path.join(test_SeaLake, img)\n",
        "    shutil.copyfile(origin, destination)"
      ],
      "metadata": {
        "id": "1f86oIQZMNMf"
      },
      "execution_count": 24,
      "outputs": []
    },
    {
      "cell_type": "code",
      "source": [
        "train_folder= '/content/split/train'\n",
        "test_folder= '/content/split/test'\n",
        "# normalizing images\n",
        "train_gen= ImageDataGenerator(rescale= 1./255, validation_split= 0.125)\n",
        "test_gen= ImageDataGenerator(rescale= 1./255)\n",
        "\n",
        "# 70% train, 10% val, 20% test\n",
        "train_generator= train_gen.flow_from_directory(train_folder, class_mode= 'categorical', subset= 'training', batch_size= 128, shuffle= True, seed= 42)\n",
        "val_generator= train_gen.flow_from_directory(train_folder, class_mode= 'categorical', subset= 'validation', batch_size= 128, shuffle= True, seed= 42)\n",
        "test_generator= test_gen.flow_from_directory(test_folder, class_mode= 'categorical', batch_size= 128, shuffle= True, seed= 42)"
      ],
      "metadata": {
        "id": "IKCMcUVmOIC-",
        "colab": {
          "base_uri": "https://localhost:8080/"
        },
        "outputId": "39cbcda3-4d5f-4dbb-ff79-1ac8760897e3"
      },
      "execution_count": 25,
      "outputs": [
        {
          "output_type": "stream",
          "name": "stdout",
          "text": [
            "Found 18900 images belonging to 10 classes.\n",
            "Found 2700 images belonging to 10 classes.\n",
            "Found 5400 images belonging to 10 classes.\n"
          ]
        }
      ]
    },
    {
      "cell_type": "code",
      "source": [
        "# features/labels data\n",
        "train_features, train_labels= next(train_generator)\n",
        "test_features, test_labels= next(test_generator)\n",
        "val_features, val_labels= next(val_generator)\n"
      ],
      "metadata": {
        "id": "22pYBA0EMNQ7"
      },
      "execution_count": 26,
      "outputs": []
    },
    {
      "cell_type": "code",
      "source": [
        "train_classes= train_generator.classes\n",
        "val_classes= val_generator.classes\n",
        "test_classes= test_generator.classes\n",
        "# distribution by class across each set\n",
        "train_class, train_count= np.unique(train_classes, return_counts= True)\n",
        "val_class, val_count= np.unique(val_classes, return_counts= True)\n",
        "test_class, test_count= np.unique(test_classes, return_counts= True)\n",
        "print('Train: {}'.format(list(zip(train_class, train_count))))\n",
        "print('Validation: {}'.format(list(zip(val_class, val_count))))\n",
        "print('Test: {}'.format(list(zip(test_class, test_count))))\n",
        "print('--------------------------------------------------')\n",
        "# class names\n",
        "train_class_names= train_generator.class_indices\n",
        "print('Train:', train_class_names)\n",
        "val_class_names= val_generator.class_indices\n",
        "print('Validation:', val_class_names)\n",
        "test_class_names= test_generator.class_indices\n",
        "print('Train:', test_class_names)\n",
        "print('--------------------------------------------------')\n",
        "# view shape of data\n",
        "print(\"Train\")\n",
        "print(np.shape(train_features))\n",
        "print(np.shape(train_labels))\n",
        "print(\"Validation\")\n",
        "print(np.shape(val_features))\n",
        "print(np.shape(val_labels))\n",
        "print(\"Test\")\n",
        "print(np.shape(test_features))\n",
        "print(np.shape(test_labels))"
      ],
      "metadata": {
        "colab": {
          "base_uri": "https://localhost:8080/"
        },
        "id": "Lwl546oEMNTE",
        "outputId": "efc0162f-cff1-44b4-9038-4dfacbea72fa"
      },
      "execution_count": null,
      "outputs": [
        {
          "output_type": "stream",
          "name": "stdout",
          "text": [
            "Train: [(0, 2100), (1, 2100), (2, 2100), (3, 1750), (4, 1750), (5, 1400), (6, 1750), (7, 2100), (8, 1750), (9, 2100)]\n",
            "Validation: [(0, 300), (1, 300), (2, 300), (3, 250), (4, 250), (5, 200), (6, 250), (7, 300), (8, 250), (9, 300)]\n",
            "Test: [(0, 600), (1, 600), (2, 600), (3, 500), (4, 500), (5, 400), (6, 500), (7, 600), (8, 500), (9, 600)]\n",
            "--------------------------------------------------\n",
            "Train: {'AnnualCrop': 0, 'Forest': 1, 'HerbaceousVegetation': 2, 'Highway': 3, 'Industrial': 4, 'Pasture': 5, 'PermanentCrop': 6, 'Residential': 7, 'River': 8, 'SeaLake': 9}\n",
            "Validation: {'AnnualCrop': 0, 'Forest': 1, 'HerbaceousVegetation': 2, 'Highway': 3, 'Industrial': 4, 'Pasture': 5, 'PermanentCrop': 6, 'Residential': 7, 'River': 8, 'SeaLake': 9}\n",
            "Train: {'AnnualCrop': 0, 'Forest': 1, 'HerbaceousVegetation': 2, 'Highway': 3, 'Industrial': 4, 'Pasture': 5, 'PermanentCrop': 6, 'Residential': 7, 'River': 8, 'SeaLake': 9}\n",
            "--------------------------------------------------\n",
            "Train\n",
            "(128, 256, 256, 3)\n",
            "(128, 10)\n",
            "Validation\n",
            "(128, 256, 256, 3)\n",
            "(128, 10)\n",
            "Test\n",
            "(128, 256, 256, 3)\n",
            "(128, 10)\n"
          ]
        }
      ]
    },
    {
      "cell_type": "markdown",
      "source": [
        "**<h3>Transfer Learning: VGG16 Augmentation and Fine Tuning</h3>**"
      ],
      "metadata": {
        "id": "LR52LMIYsWMq"
      }
    },
    {
      "cell_type": "code",
      "source": [
        "train_folder= '/content/split/train'\n",
        "test_folder= '/content/split/test'\n",
        "\n",
        "\n",
        "# by augmeting, we artificially increases the diversity of our training dataset\n",
        "# Normalize images\n",
        "augmented_training_values = ImageDataGenerator(rescale=1./255,\n",
        "                                     zoom_range=0.3,\n",
        "                                     rotation_range=50,\n",
        "                                     width_shift_range=0.2,\n",
        "                                     height_shift_range=0.2,\n",
        "                                     shear_range=0.2,\n",
        "                                     horizontal_flip=True,\n",
        "                                     fill_mode='nearest',\n",
        "                                     preprocessing_function = tf.keras.applications.vgg16.preprocess_input, #scaling the input to match the model's expected input\n",
        "                                     validation_split = 0.125)\n",
        "\n",
        "augmented_validation_values = ImageDataGenerator(rescale=1./255,\n",
        "                               preprocessing_function = tf.keras.applications.vgg16.preprocess_input,\n",
        "                               validation_split = 0.125)\n",
        "\n",
        "augmented_testing_values = ImageDataGenerator(rescale=1./255,\n",
        "                              preprocessing_function = tf.keras.applications.vgg16.preprocess_input)\n",
        "\n",
        "\n",
        "\n",
        "\n",
        "# Splitting data into 70% training, 10% validation set, 20% testing\n",
        "\n",
        "training_split = augmented_training_values.flow_from_directory(train_folder,\n",
        "                                                class_mode = 'categorical',\n",
        "                                                subset ='training',\n",
        "                                                batch_size=128,\n",
        "                                                shuffle=True,\n",
        "                                                seed=42)\n",
        "\n",
        "validation_split= augmented_validation_values.flow_from_directory(train_folder,\n",
        "                                             class_mode= 'categorical',\n",
        "                                             subset = \"validation\",\n",
        "                                             batch_size=128,\n",
        "                                             shuffle=True,\n",
        "                                             seed=42)\n",
        "\n",
        "testing_split= augmented_testing_values.flow_from_directory(test_folder,\n",
        "                                              class_mode= 'categorical',\n",
        "                                              batch_size=128,\n",
        "                                              shuffle=False,\n",
        "                                              seed=42)\n",
        "\n"
      ],
      "metadata": {
        "id": "9hn90AuXMoA3",
        "colab": {
          "base_uri": "https://localhost:8080/"
        },
        "outputId": "316a6c73-71d6-4c40-9bf5-797a6f6bc448"
      },
      "execution_count": 27,
      "outputs": [
        {
          "output_type": "stream",
          "name": "stdout",
          "text": [
            "Found 18900 images belonging to 10 classes.\n",
            "Found 2700 images belonging to 10 classes.\n",
            "Found 5400 images belonging to 10 classes.\n"
          ]
        }
      ]
    },
    {
      "cell_type": "code",
      "source": [
        "#Reshapeing oyr input to match the expected input of VGG MODEL\n",
        "vgg16_input = VGG16(weights='imagenet',  #use the pretained weights from the imagenet model\n",
        "              include_top=False, #remove the top classification layer as we will add our own custom layers\n",
        "              input_shape=(256, 256, 3))"
      ],
      "metadata": {
        "id": "aFG2q-YNP5sQ",
        "colab": {
          "base_uri": "https://localhost:8080/"
        },
        "outputId": "2739534c-7204-4cb4-b124-43f96ff734d5"
      },
      "execution_count": 7,
      "outputs": [
        {
          "output_type": "stream",
          "name": "stdout",
          "text": [
            "Downloading data from https://storage.googleapis.com/tensorflow/keras-applications/vgg16/vgg16_weights_tf_dim_ordering_tf_kernels_notop.h5\n",
            "\u001b[1m58889256/58889256\u001b[0m \u001b[32m━━━━━━━━━━━━━━━━━━━━\u001b[0m\u001b[37m\u001b[0m \u001b[1m0s\u001b[0m 0us/step\n"
          ]
        }
      ]
    },
    {
      "cell_type": "code",
      "source": [
        "vgg16_input.summary()"
      ],
      "metadata": {
        "colab": {
          "base_uri": "https://localhost:8080/",
          "height": 797
        },
        "id": "APaS-Q6skEVi",
        "outputId": "00091f03-fa32-4b88-dd22-b8134ad7677f"
      },
      "execution_count": 8,
      "outputs": [
        {
          "output_type": "display_data",
          "data": {
            "text/plain": [
              "\u001b[1mModel: \"vgg16\"\u001b[0m\n"
            ],
            "text/html": [
              "<pre style=\"white-space:pre;overflow-x:auto;line-height:normal;font-family:Menlo,'DejaVu Sans Mono',consolas,'Courier New',monospace\"><span style=\"font-weight: bold\">Model: \"vgg16\"</span>\n",
              "</pre>\n"
            ]
          },
          "metadata": {}
        },
        {
          "output_type": "display_data",
          "data": {
            "text/plain": [
              "┏━━━━━━━━━━━━━━━━━━━━━━━━━━━━━━━━━━━━━━┳━━━━━━━━━━━━━━━━━━━━━━━━━━━━━┳━━━━━━━━━━━━━━━━━┓\n",
              "┃\u001b[1m \u001b[0m\u001b[1mLayer (type)                        \u001b[0m\u001b[1m \u001b[0m┃\u001b[1m \u001b[0m\u001b[1mOutput Shape               \u001b[0m\u001b[1m \u001b[0m┃\u001b[1m \u001b[0m\u001b[1m        Param #\u001b[0m\u001b[1m \u001b[0m┃\n",
              "┡━━━━━━━━━━━━━━━━━━━━━━━━━━━━━━━━━━━━━━╇━━━━━━━━━━━━━━━━━━━━━━━━━━━━━╇━━━━━━━━━━━━━━━━━┩\n",
              "│ input_layer (\u001b[38;5;33mInputLayer\u001b[0m)             │ (\u001b[38;5;45mNone\u001b[0m, \u001b[38;5;34m256\u001b[0m, \u001b[38;5;34m256\u001b[0m, \u001b[38;5;34m3\u001b[0m)         │               \u001b[38;5;34m0\u001b[0m │\n",
              "├──────────────────────────────────────┼─────────────────────────────┼─────────────────┤\n",
              "│ block1_conv1 (\u001b[38;5;33mConv2D\u001b[0m)                │ (\u001b[38;5;45mNone\u001b[0m, \u001b[38;5;34m256\u001b[0m, \u001b[38;5;34m256\u001b[0m, \u001b[38;5;34m64\u001b[0m)        │           \u001b[38;5;34m1,792\u001b[0m │\n",
              "├──────────────────────────────────────┼─────────────────────────────┼─────────────────┤\n",
              "│ block1_conv2 (\u001b[38;5;33mConv2D\u001b[0m)                │ (\u001b[38;5;45mNone\u001b[0m, \u001b[38;5;34m256\u001b[0m, \u001b[38;5;34m256\u001b[0m, \u001b[38;5;34m64\u001b[0m)        │          \u001b[38;5;34m36,928\u001b[0m │\n",
              "├──────────────────────────────────────┼─────────────────────────────┼─────────────────┤\n",
              "│ block1_pool (\u001b[38;5;33mMaxPooling2D\u001b[0m)           │ (\u001b[38;5;45mNone\u001b[0m, \u001b[38;5;34m128\u001b[0m, \u001b[38;5;34m128\u001b[0m, \u001b[38;5;34m64\u001b[0m)        │               \u001b[38;5;34m0\u001b[0m │\n",
              "├──────────────────────────────────────┼─────────────────────────────┼─────────────────┤\n",
              "│ block2_conv1 (\u001b[38;5;33mConv2D\u001b[0m)                │ (\u001b[38;5;45mNone\u001b[0m, \u001b[38;5;34m128\u001b[0m, \u001b[38;5;34m128\u001b[0m, \u001b[38;5;34m128\u001b[0m)       │          \u001b[38;5;34m73,856\u001b[0m │\n",
              "├──────────────────────────────────────┼─────────────────────────────┼─────────────────┤\n",
              "│ block2_conv2 (\u001b[38;5;33mConv2D\u001b[0m)                │ (\u001b[38;5;45mNone\u001b[0m, \u001b[38;5;34m128\u001b[0m, \u001b[38;5;34m128\u001b[0m, \u001b[38;5;34m128\u001b[0m)       │         \u001b[38;5;34m147,584\u001b[0m │\n",
              "├──────────────────────────────────────┼─────────────────────────────┼─────────────────┤\n",
              "│ block2_pool (\u001b[38;5;33mMaxPooling2D\u001b[0m)           │ (\u001b[38;5;45mNone\u001b[0m, \u001b[38;5;34m64\u001b[0m, \u001b[38;5;34m64\u001b[0m, \u001b[38;5;34m128\u001b[0m)         │               \u001b[38;5;34m0\u001b[0m │\n",
              "├──────────────────────────────────────┼─────────────────────────────┼─────────────────┤\n",
              "│ block3_conv1 (\u001b[38;5;33mConv2D\u001b[0m)                │ (\u001b[38;5;45mNone\u001b[0m, \u001b[38;5;34m64\u001b[0m, \u001b[38;5;34m64\u001b[0m, \u001b[38;5;34m256\u001b[0m)         │         \u001b[38;5;34m295,168\u001b[0m │\n",
              "├──────────────────────────────────────┼─────────────────────────────┼─────────────────┤\n",
              "│ block3_conv2 (\u001b[38;5;33mConv2D\u001b[0m)                │ (\u001b[38;5;45mNone\u001b[0m, \u001b[38;5;34m64\u001b[0m, \u001b[38;5;34m64\u001b[0m, \u001b[38;5;34m256\u001b[0m)         │         \u001b[38;5;34m590,080\u001b[0m │\n",
              "├──────────────────────────────────────┼─────────────────────────────┼─────────────────┤\n",
              "│ block3_conv3 (\u001b[38;5;33mConv2D\u001b[0m)                │ (\u001b[38;5;45mNone\u001b[0m, \u001b[38;5;34m64\u001b[0m, \u001b[38;5;34m64\u001b[0m, \u001b[38;5;34m256\u001b[0m)         │         \u001b[38;5;34m590,080\u001b[0m │\n",
              "├──────────────────────────────────────┼─────────────────────────────┼─────────────────┤\n",
              "│ block3_pool (\u001b[38;5;33mMaxPooling2D\u001b[0m)           │ (\u001b[38;5;45mNone\u001b[0m, \u001b[38;5;34m32\u001b[0m, \u001b[38;5;34m32\u001b[0m, \u001b[38;5;34m256\u001b[0m)         │               \u001b[38;5;34m0\u001b[0m │\n",
              "├──────────────────────────────────────┼─────────────────────────────┼─────────────────┤\n",
              "│ block4_conv1 (\u001b[38;5;33mConv2D\u001b[0m)                │ (\u001b[38;5;45mNone\u001b[0m, \u001b[38;5;34m32\u001b[0m, \u001b[38;5;34m32\u001b[0m, \u001b[38;5;34m512\u001b[0m)         │       \u001b[38;5;34m1,180,160\u001b[0m │\n",
              "├──────────────────────────────────────┼─────────────────────────────┼─────────────────┤\n",
              "│ block4_conv2 (\u001b[38;5;33mConv2D\u001b[0m)                │ (\u001b[38;5;45mNone\u001b[0m, \u001b[38;5;34m32\u001b[0m, \u001b[38;5;34m32\u001b[0m, \u001b[38;5;34m512\u001b[0m)         │       \u001b[38;5;34m2,359,808\u001b[0m │\n",
              "├──────────────────────────────────────┼─────────────────────────────┼─────────────────┤\n",
              "│ block4_conv3 (\u001b[38;5;33mConv2D\u001b[0m)                │ (\u001b[38;5;45mNone\u001b[0m, \u001b[38;5;34m32\u001b[0m, \u001b[38;5;34m32\u001b[0m, \u001b[38;5;34m512\u001b[0m)         │       \u001b[38;5;34m2,359,808\u001b[0m │\n",
              "├──────────────────────────────────────┼─────────────────────────────┼─────────────────┤\n",
              "│ block4_pool (\u001b[38;5;33mMaxPooling2D\u001b[0m)           │ (\u001b[38;5;45mNone\u001b[0m, \u001b[38;5;34m16\u001b[0m, \u001b[38;5;34m16\u001b[0m, \u001b[38;5;34m512\u001b[0m)         │               \u001b[38;5;34m0\u001b[0m │\n",
              "├──────────────────────────────────────┼─────────────────────────────┼─────────────────┤\n",
              "│ block5_conv1 (\u001b[38;5;33mConv2D\u001b[0m)                │ (\u001b[38;5;45mNone\u001b[0m, \u001b[38;5;34m16\u001b[0m, \u001b[38;5;34m16\u001b[0m, \u001b[38;5;34m512\u001b[0m)         │       \u001b[38;5;34m2,359,808\u001b[0m │\n",
              "├──────────────────────────────────────┼─────────────────────────────┼─────────────────┤\n",
              "│ block5_conv2 (\u001b[38;5;33mConv2D\u001b[0m)                │ (\u001b[38;5;45mNone\u001b[0m, \u001b[38;5;34m16\u001b[0m, \u001b[38;5;34m16\u001b[0m, \u001b[38;5;34m512\u001b[0m)         │       \u001b[38;5;34m2,359,808\u001b[0m │\n",
              "├──────────────────────────────────────┼─────────────────────────────┼─────────────────┤\n",
              "│ block5_conv3 (\u001b[38;5;33mConv2D\u001b[0m)                │ (\u001b[38;5;45mNone\u001b[0m, \u001b[38;5;34m16\u001b[0m, \u001b[38;5;34m16\u001b[0m, \u001b[38;5;34m512\u001b[0m)         │       \u001b[38;5;34m2,359,808\u001b[0m │\n",
              "├──────────────────────────────────────┼─────────────────────────────┼─────────────────┤\n",
              "│ block5_pool (\u001b[38;5;33mMaxPooling2D\u001b[0m)           │ (\u001b[38;5;45mNone\u001b[0m, \u001b[38;5;34m8\u001b[0m, \u001b[38;5;34m8\u001b[0m, \u001b[38;5;34m512\u001b[0m)           │               \u001b[38;5;34m0\u001b[0m │\n",
              "└──────────────────────────────────────┴─────────────────────────────┴─────────────────┘\n"
            ],
            "text/html": [
              "<pre style=\"white-space:pre;overflow-x:auto;line-height:normal;font-family:Menlo,'DejaVu Sans Mono',consolas,'Courier New',monospace\">┏━━━━━━━━━━━━━━━━━━━━━━━━━━━━━━━━━━━━━━┳━━━━━━━━━━━━━━━━━━━━━━━━━━━━━┳━━━━━━━━━━━━━━━━━┓\n",
              "┃<span style=\"font-weight: bold\"> Layer (type)                         </span>┃<span style=\"font-weight: bold\"> Output Shape                </span>┃<span style=\"font-weight: bold\">         Param # </span>┃\n",
              "┡━━━━━━━━━━━━━━━━━━━━━━━━━━━━━━━━━━━━━━╇━━━━━━━━━━━━━━━━━━━━━━━━━━━━━╇━━━━━━━━━━━━━━━━━┩\n",
              "│ input_layer (<span style=\"color: #0087ff; text-decoration-color: #0087ff\">InputLayer</span>)             │ (<span style=\"color: #00d7ff; text-decoration-color: #00d7ff\">None</span>, <span style=\"color: #00af00; text-decoration-color: #00af00\">256</span>, <span style=\"color: #00af00; text-decoration-color: #00af00\">256</span>, <span style=\"color: #00af00; text-decoration-color: #00af00\">3</span>)         │               <span style=\"color: #00af00; text-decoration-color: #00af00\">0</span> │\n",
              "├──────────────────────────────────────┼─────────────────────────────┼─────────────────┤\n",
              "│ block1_conv1 (<span style=\"color: #0087ff; text-decoration-color: #0087ff\">Conv2D</span>)                │ (<span style=\"color: #00d7ff; text-decoration-color: #00d7ff\">None</span>, <span style=\"color: #00af00; text-decoration-color: #00af00\">256</span>, <span style=\"color: #00af00; text-decoration-color: #00af00\">256</span>, <span style=\"color: #00af00; text-decoration-color: #00af00\">64</span>)        │           <span style=\"color: #00af00; text-decoration-color: #00af00\">1,792</span> │\n",
              "├──────────────────────────────────────┼─────────────────────────────┼─────────────────┤\n",
              "│ block1_conv2 (<span style=\"color: #0087ff; text-decoration-color: #0087ff\">Conv2D</span>)                │ (<span style=\"color: #00d7ff; text-decoration-color: #00d7ff\">None</span>, <span style=\"color: #00af00; text-decoration-color: #00af00\">256</span>, <span style=\"color: #00af00; text-decoration-color: #00af00\">256</span>, <span style=\"color: #00af00; text-decoration-color: #00af00\">64</span>)        │          <span style=\"color: #00af00; text-decoration-color: #00af00\">36,928</span> │\n",
              "├──────────────────────────────────────┼─────────────────────────────┼─────────────────┤\n",
              "│ block1_pool (<span style=\"color: #0087ff; text-decoration-color: #0087ff\">MaxPooling2D</span>)           │ (<span style=\"color: #00d7ff; text-decoration-color: #00d7ff\">None</span>, <span style=\"color: #00af00; text-decoration-color: #00af00\">128</span>, <span style=\"color: #00af00; text-decoration-color: #00af00\">128</span>, <span style=\"color: #00af00; text-decoration-color: #00af00\">64</span>)        │               <span style=\"color: #00af00; text-decoration-color: #00af00\">0</span> │\n",
              "├──────────────────────────────────────┼─────────────────────────────┼─────────────────┤\n",
              "│ block2_conv1 (<span style=\"color: #0087ff; text-decoration-color: #0087ff\">Conv2D</span>)                │ (<span style=\"color: #00d7ff; text-decoration-color: #00d7ff\">None</span>, <span style=\"color: #00af00; text-decoration-color: #00af00\">128</span>, <span style=\"color: #00af00; text-decoration-color: #00af00\">128</span>, <span style=\"color: #00af00; text-decoration-color: #00af00\">128</span>)       │          <span style=\"color: #00af00; text-decoration-color: #00af00\">73,856</span> │\n",
              "├──────────────────────────────────────┼─────────────────────────────┼─────────────────┤\n",
              "│ block2_conv2 (<span style=\"color: #0087ff; text-decoration-color: #0087ff\">Conv2D</span>)                │ (<span style=\"color: #00d7ff; text-decoration-color: #00d7ff\">None</span>, <span style=\"color: #00af00; text-decoration-color: #00af00\">128</span>, <span style=\"color: #00af00; text-decoration-color: #00af00\">128</span>, <span style=\"color: #00af00; text-decoration-color: #00af00\">128</span>)       │         <span style=\"color: #00af00; text-decoration-color: #00af00\">147,584</span> │\n",
              "├──────────────────────────────────────┼─────────────────────────────┼─────────────────┤\n",
              "│ block2_pool (<span style=\"color: #0087ff; text-decoration-color: #0087ff\">MaxPooling2D</span>)           │ (<span style=\"color: #00d7ff; text-decoration-color: #00d7ff\">None</span>, <span style=\"color: #00af00; text-decoration-color: #00af00\">64</span>, <span style=\"color: #00af00; text-decoration-color: #00af00\">64</span>, <span style=\"color: #00af00; text-decoration-color: #00af00\">128</span>)         │               <span style=\"color: #00af00; text-decoration-color: #00af00\">0</span> │\n",
              "├──────────────────────────────────────┼─────────────────────────────┼─────────────────┤\n",
              "│ block3_conv1 (<span style=\"color: #0087ff; text-decoration-color: #0087ff\">Conv2D</span>)                │ (<span style=\"color: #00d7ff; text-decoration-color: #00d7ff\">None</span>, <span style=\"color: #00af00; text-decoration-color: #00af00\">64</span>, <span style=\"color: #00af00; text-decoration-color: #00af00\">64</span>, <span style=\"color: #00af00; text-decoration-color: #00af00\">256</span>)         │         <span style=\"color: #00af00; text-decoration-color: #00af00\">295,168</span> │\n",
              "├──────────────────────────────────────┼─────────────────────────────┼─────────────────┤\n",
              "│ block3_conv2 (<span style=\"color: #0087ff; text-decoration-color: #0087ff\">Conv2D</span>)                │ (<span style=\"color: #00d7ff; text-decoration-color: #00d7ff\">None</span>, <span style=\"color: #00af00; text-decoration-color: #00af00\">64</span>, <span style=\"color: #00af00; text-decoration-color: #00af00\">64</span>, <span style=\"color: #00af00; text-decoration-color: #00af00\">256</span>)         │         <span style=\"color: #00af00; text-decoration-color: #00af00\">590,080</span> │\n",
              "├──────────────────────────────────────┼─────────────────────────────┼─────────────────┤\n",
              "│ block3_conv3 (<span style=\"color: #0087ff; text-decoration-color: #0087ff\">Conv2D</span>)                │ (<span style=\"color: #00d7ff; text-decoration-color: #00d7ff\">None</span>, <span style=\"color: #00af00; text-decoration-color: #00af00\">64</span>, <span style=\"color: #00af00; text-decoration-color: #00af00\">64</span>, <span style=\"color: #00af00; text-decoration-color: #00af00\">256</span>)         │         <span style=\"color: #00af00; text-decoration-color: #00af00\">590,080</span> │\n",
              "├──────────────────────────────────────┼─────────────────────────────┼─────────────────┤\n",
              "│ block3_pool (<span style=\"color: #0087ff; text-decoration-color: #0087ff\">MaxPooling2D</span>)           │ (<span style=\"color: #00d7ff; text-decoration-color: #00d7ff\">None</span>, <span style=\"color: #00af00; text-decoration-color: #00af00\">32</span>, <span style=\"color: #00af00; text-decoration-color: #00af00\">32</span>, <span style=\"color: #00af00; text-decoration-color: #00af00\">256</span>)         │               <span style=\"color: #00af00; text-decoration-color: #00af00\">0</span> │\n",
              "├──────────────────────────────────────┼─────────────────────────────┼─────────────────┤\n",
              "│ block4_conv1 (<span style=\"color: #0087ff; text-decoration-color: #0087ff\">Conv2D</span>)                │ (<span style=\"color: #00d7ff; text-decoration-color: #00d7ff\">None</span>, <span style=\"color: #00af00; text-decoration-color: #00af00\">32</span>, <span style=\"color: #00af00; text-decoration-color: #00af00\">32</span>, <span style=\"color: #00af00; text-decoration-color: #00af00\">512</span>)         │       <span style=\"color: #00af00; text-decoration-color: #00af00\">1,180,160</span> │\n",
              "├──────────────────────────────────────┼─────────────────────────────┼─────────────────┤\n",
              "│ block4_conv2 (<span style=\"color: #0087ff; text-decoration-color: #0087ff\">Conv2D</span>)                │ (<span style=\"color: #00d7ff; text-decoration-color: #00d7ff\">None</span>, <span style=\"color: #00af00; text-decoration-color: #00af00\">32</span>, <span style=\"color: #00af00; text-decoration-color: #00af00\">32</span>, <span style=\"color: #00af00; text-decoration-color: #00af00\">512</span>)         │       <span style=\"color: #00af00; text-decoration-color: #00af00\">2,359,808</span> │\n",
              "├──────────────────────────────────────┼─────────────────────────────┼─────────────────┤\n",
              "│ block4_conv3 (<span style=\"color: #0087ff; text-decoration-color: #0087ff\">Conv2D</span>)                │ (<span style=\"color: #00d7ff; text-decoration-color: #00d7ff\">None</span>, <span style=\"color: #00af00; text-decoration-color: #00af00\">32</span>, <span style=\"color: #00af00; text-decoration-color: #00af00\">32</span>, <span style=\"color: #00af00; text-decoration-color: #00af00\">512</span>)         │       <span style=\"color: #00af00; text-decoration-color: #00af00\">2,359,808</span> │\n",
              "├──────────────────────────────────────┼─────────────────────────────┼─────────────────┤\n",
              "│ block4_pool (<span style=\"color: #0087ff; text-decoration-color: #0087ff\">MaxPooling2D</span>)           │ (<span style=\"color: #00d7ff; text-decoration-color: #00d7ff\">None</span>, <span style=\"color: #00af00; text-decoration-color: #00af00\">16</span>, <span style=\"color: #00af00; text-decoration-color: #00af00\">16</span>, <span style=\"color: #00af00; text-decoration-color: #00af00\">512</span>)         │               <span style=\"color: #00af00; text-decoration-color: #00af00\">0</span> │\n",
              "├──────────────────────────────────────┼─────────────────────────────┼─────────────────┤\n",
              "│ block5_conv1 (<span style=\"color: #0087ff; text-decoration-color: #0087ff\">Conv2D</span>)                │ (<span style=\"color: #00d7ff; text-decoration-color: #00d7ff\">None</span>, <span style=\"color: #00af00; text-decoration-color: #00af00\">16</span>, <span style=\"color: #00af00; text-decoration-color: #00af00\">16</span>, <span style=\"color: #00af00; text-decoration-color: #00af00\">512</span>)         │       <span style=\"color: #00af00; text-decoration-color: #00af00\">2,359,808</span> │\n",
              "├──────────────────────────────────────┼─────────────────────────────┼─────────────────┤\n",
              "│ block5_conv2 (<span style=\"color: #0087ff; text-decoration-color: #0087ff\">Conv2D</span>)                │ (<span style=\"color: #00d7ff; text-decoration-color: #00d7ff\">None</span>, <span style=\"color: #00af00; text-decoration-color: #00af00\">16</span>, <span style=\"color: #00af00; text-decoration-color: #00af00\">16</span>, <span style=\"color: #00af00; text-decoration-color: #00af00\">512</span>)         │       <span style=\"color: #00af00; text-decoration-color: #00af00\">2,359,808</span> │\n",
              "├──────────────────────────────────────┼─────────────────────────────┼─────────────────┤\n",
              "│ block5_conv3 (<span style=\"color: #0087ff; text-decoration-color: #0087ff\">Conv2D</span>)                │ (<span style=\"color: #00d7ff; text-decoration-color: #00d7ff\">None</span>, <span style=\"color: #00af00; text-decoration-color: #00af00\">16</span>, <span style=\"color: #00af00; text-decoration-color: #00af00\">16</span>, <span style=\"color: #00af00; text-decoration-color: #00af00\">512</span>)         │       <span style=\"color: #00af00; text-decoration-color: #00af00\">2,359,808</span> │\n",
              "├──────────────────────────────────────┼─────────────────────────────┼─────────────────┤\n",
              "│ block5_pool (<span style=\"color: #0087ff; text-decoration-color: #0087ff\">MaxPooling2D</span>)           │ (<span style=\"color: #00d7ff; text-decoration-color: #00d7ff\">None</span>, <span style=\"color: #00af00; text-decoration-color: #00af00\">8</span>, <span style=\"color: #00af00; text-decoration-color: #00af00\">8</span>, <span style=\"color: #00af00; text-decoration-color: #00af00\">512</span>)           │               <span style=\"color: #00af00; text-decoration-color: #00af00\">0</span> │\n",
              "└──────────────────────────────────────┴─────────────────────────────┴─────────────────┘\n",
              "</pre>\n"
            ]
          },
          "metadata": {}
        },
        {
          "output_type": "display_data",
          "data": {
            "text/plain": [
              "\u001b[1m Total params: \u001b[0m\u001b[38;5;34m14,714,688\u001b[0m (56.13 MB)\n"
            ],
            "text/html": [
              "<pre style=\"white-space:pre;overflow-x:auto;line-height:normal;font-family:Menlo,'DejaVu Sans Mono',consolas,'Courier New',monospace\"><span style=\"font-weight: bold\"> Total params: </span><span style=\"color: #00af00; text-decoration-color: #00af00\">14,714,688</span> (56.13 MB)\n",
              "</pre>\n"
            ]
          },
          "metadata": {}
        },
        {
          "output_type": "display_data",
          "data": {
            "text/plain": [
              "\u001b[1m Trainable params: \u001b[0m\u001b[38;5;34m14,714,688\u001b[0m (56.13 MB)\n"
            ],
            "text/html": [
              "<pre style=\"white-space:pre;overflow-x:auto;line-height:normal;font-family:Menlo,'DejaVu Sans Mono',consolas,'Courier New',monospace\"><span style=\"font-weight: bold\"> Trainable params: </span><span style=\"color: #00af00; text-decoration-color: #00af00\">14,714,688</span> (56.13 MB)\n",
              "</pre>\n"
            ]
          },
          "metadata": {}
        },
        {
          "output_type": "display_data",
          "data": {
            "text/plain": [
              "\u001b[1m Non-trainable params: \u001b[0m\u001b[38;5;34m0\u001b[0m (0.00 B)\n"
            ],
            "text/html": [
              "<pre style=\"white-space:pre;overflow-x:auto;line-height:normal;font-family:Menlo,'DejaVu Sans Mono',consolas,'Courier New',monospace\"><span style=\"font-weight: bold\"> Non-trainable params: </span><span style=\"color: #00af00; text-decoration-color: #00af00\">0</span> (0.00 B)\n",
              "</pre>\n"
            ]
          },
          "metadata": {}
        }
      ]
    },
    {
      "cell_type": "code",
      "source": [
        "#Instantiate a Sequential model\n",
        "aug_vgg16_model = Sequential()\n",
        "\n",
        "#Input Layer\n",
        "aug_vgg16_model.add(vgg16_input)\n",
        "\n",
        "aug_vgg16_model.add(layers.Flatten())\n",
        "\n",
        "#Add Dense Layer\n",
        "aug_vgg16_model.add(layers.Dense(512, activation='relu'))\n",
        "aug_vgg16_model.add(layers.Dropout(0.3))\n",
        "\n",
        "#Add Dense Layer\n",
        "aug_vgg16_model.add(layers.Dense(64, activation='relu'))\n",
        "aug_vgg16_model.add(layers.Dropout(0.3))\n",
        "\n",
        "#Output Layer\n",
        "aug_vgg16_model.add(layers.Dense(10, activation='softmax'))"
      ],
      "metadata": {
        "id": "2JOQU7iGP5ut"
      },
      "execution_count": 9,
      "outputs": []
    },
    {
      "cell_type": "code",
      "source": [
        "\n",
        "print(\"Number of layers in the VGG16 base model: \", len(vgg16_input.layers))\n"
      ],
      "metadata": {
        "id": "XPQcBPz-P5w6",
        "colab": {
          "base_uri": "https://localhost:8080/"
        },
        "outputId": "efe18811-7a29-410f-b738-00e40b54a031"
      },
      "execution_count": 10,
      "outputs": [
        {
          "output_type": "stream",
          "name": "stdout",
          "text": [
            "Number of layers in the VGG16 base model:  19\n"
          ]
        }
      ]
    },
    {
      "cell_type": "code",
      "source": [
        "# Fine-tune from layer 15 onwards\n",
        "fine_tune_at = 15\n",
        "\n",
        "# Freeze all the layers before the `fine_tune_at` layer\n",
        "for layer in vgg16_input.layers[:fine_tune_at]:\n",
        "  layer.trainable = False\n"
      ],
      "metadata": {
        "id": "iEEeNKPqP5zP"
      },
      "execution_count": null,
      "outputs": []
    },
    {
      "cell_type": "code",
      "source": [
        "#Compile the model- adam optimizer, categorical_crossentropy loss, and set our metric to accuracy\n",
        "aug_vgg16_model.compile(optimizer='adam',\n",
        "                       loss='categorical_crossentropy',\n",
        "                       metrics=['accuracy'])"
      ],
      "metadata": {
        "id": "ki3OawOQP51q"
      },
      "execution_count": null,
      "outputs": []
    },
    {
      "cell_type": "code",
      "source": [
        "# Fit the model\n",
        "aug_vgg16_model_history = aug_vgg16_model.fit(training_split,\n",
        "                                  epochs= 50,\n",
        "                                  validation_data = validation_split,\n",
        "                                  batch_size=128,\n",
        "                                  verbose = 1)"
      ],
      "metadata": {
        "colab": {
          "base_uri": "https://localhost:8080/"
        },
        "id": "XmzQ5itSj7V9",
        "outputId": "76659192-58ba-42da-ff6b-38dcca7613c2",
        "collapsed": true
      },
      "execution_count": null,
      "outputs": [
        {
          "output_type": "stream",
          "name": "stdout",
          "text": [
            "Epoch 1/50\n"
          ]
        },
        {
          "output_type": "stream",
          "name": "stderr",
          "text": [
            "/usr/local/lib/python3.10/dist-packages/keras/src/trainers/data_adapters/py_dataset_adapter.py:121: UserWarning: Your `PyDataset` class should call `super().__init__(**kwargs)` in its constructor. `**kwargs` can include `workers`, `use_multiprocessing`, `max_queue_size`. Do not pass these arguments to `fit()`, as they will be ignored.\n",
            "  self._warn_if_super_not_called()\n"
          ]
        },
        {
          "output_type": "stream",
          "name": "stdout",
          "text": [
            "\u001b[1m148/148\u001b[0m \u001b[32m━━━━━━━━━━━━━━━━━━━━\u001b[0m\u001b[37m\u001b[0m \u001b[1m448s\u001b[0m 3s/step - accuracy: 0.1743 - loss: 2.3168 - val_accuracy: 0.4026 - val_loss: 1.5534\n",
            "Epoch 2/50\n",
            "\u001b[1m148/148\u001b[0m \u001b[32m━━━━━━━━━━━━━━━━━━━━\u001b[0m\u001b[37m\u001b[0m \u001b[1m406s\u001b[0m 2s/step - accuracy: 0.3822 - loss: 1.5901 - val_accuracy: 0.5759 - val_loss: 1.1878\n",
            "Epoch 3/50\n",
            "\u001b[1m148/148\u001b[0m \u001b[32m━━━━━━━━━━━━━━━━━━━━\u001b[0m\u001b[37m\u001b[0m \u001b[1m350s\u001b[0m 2s/step - accuracy: 0.5524 - loss: 1.2234 - val_accuracy: 0.6704 - val_loss: 0.9513\n",
            "Epoch 4/50\n",
            "\u001b[1m148/148\u001b[0m \u001b[32m━━━━━━━━━━━━━━━━━━━━\u001b[0m\u001b[37m\u001b[0m \u001b[1m350s\u001b[0m 2s/step - accuracy: 0.6514 - loss: 0.9794 - val_accuracy: 0.6852 - val_loss: 0.8874\n",
            "Epoch 5/50\n",
            "\u001b[1m148/148\u001b[0m \u001b[32m━━━━━━━━━━━━━━━━━━━━\u001b[0m\u001b[37m\u001b[0m \u001b[1m355s\u001b[0m 2s/step - accuracy: 0.7112 - loss: 0.8325 - val_accuracy: 0.7433 - val_loss: 0.6897\n",
            "Epoch 6/50\n",
            "\u001b[1m148/148\u001b[0m \u001b[32m━━━━━━━━━━━━━━━━━━━━\u001b[0m\u001b[37m\u001b[0m \u001b[1m382s\u001b[0m 2s/step - accuracy: 0.7456 - loss: 0.7258 - val_accuracy: 0.7930 - val_loss: 0.5801\n",
            "Epoch 7/50\n",
            "\u001b[1m148/148\u001b[0m \u001b[32m━━━━━━━━━━━━━━━━━━━━\u001b[0m\u001b[37m\u001b[0m \u001b[1m350s\u001b[0m 2s/step - accuracy: 0.7787 - loss: 0.6451 - val_accuracy: 0.7974 - val_loss: 0.5760\n",
            "Epoch 8/50\n",
            "\u001b[1m148/148\u001b[0m \u001b[32m━━━━━━━━━━━━━━━━━━━━\u001b[0m\u001b[37m\u001b[0m \u001b[1m351s\u001b[0m 2s/step - accuracy: 0.7971 - loss: 0.6118 - val_accuracy: 0.8311 - val_loss: 0.5126\n",
            "Epoch 9/50\n",
            "\u001b[1m148/148\u001b[0m \u001b[32m━━━━━━━━━━━━━━━━━━━━\u001b[0m\u001b[37m\u001b[0m \u001b[1m377s\u001b[0m 2s/step - accuracy: 0.8271 - loss: 0.5519 - val_accuracy: 0.8293 - val_loss: 0.4795\n",
            "Epoch 10/50\n",
            "\u001b[1m148/148\u001b[0m \u001b[32m━━━━━━━━━━━━━━━━━━━━\u001b[0m\u001b[37m\u001b[0m \u001b[1m358s\u001b[0m 2s/step - accuracy: 0.8277 - loss: 0.5236 - val_accuracy: 0.8126 - val_loss: 0.6425\n",
            "Epoch 11/50\n",
            "\u001b[1m148/148\u001b[0m \u001b[32m━━━━━━━━━━━━━━━━━━━━\u001b[0m\u001b[37m\u001b[0m \u001b[1m353s\u001b[0m 2s/step - accuracy: 0.8303 - loss: 0.5209 - val_accuracy: 0.8763 - val_loss: 0.3787\n",
            "Epoch 12/50\n",
            "\u001b[1m148/148\u001b[0m \u001b[32m━━━━━━━━━━━━━━━━━━━━\u001b[0m\u001b[37m\u001b[0m \u001b[1m351s\u001b[0m 2s/step - accuracy: 0.8417 - loss: 0.4904 - val_accuracy: 0.8537 - val_loss: 0.4329\n",
            "Epoch 13/50\n",
            "\u001b[1m148/148\u001b[0m \u001b[32m━━━━━━━━━━━━━━━━━━━━\u001b[0m\u001b[37m\u001b[0m \u001b[1m393s\u001b[0m 2s/step - accuracy: 0.8493 - loss: 0.4744 - val_accuracy: 0.8537 - val_loss: 0.4728\n",
            "Epoch 14/50\n",
            "\u001b[1m148/148\u001b[0m \u001b[32m━━━━━━━━━━━━━━━━━━━━\u001b[0m\u001b[37m\u001b[0m \u001b[1m351s\u001b[0m 2s/step - accuracy: 0.8516 - loss: 0.4584 - val_accuracy: 0.8674 - val_loss: 0.4261\n",
            "Epoch 15/50\n",
            "\u001b[1m148/148\u001b[0m \u001b[32m━━━━━━━━━━━━━━━━━━━━\u001b[0m\u001b[37m\u001b[0m \u001b[1m388s\u001b[0m 2s/step - accuracy: 0.8600 - loss: 0.4362 - val_accuracy: 0.8619 - val_loss: 0.4581\n",
            "Epoch 16/50\n",
            "\u001b[1m148/148\u001b[0m \u001b[32m━━━━━━━━━━━━━━━━━━━━\u001b[0m\u001b[37m\u001b[0m \u001b[1m350s\u001b[0m 2s/step - accuracy: 0.8707 - loss: 0.4120 - val_accuracy: 0.8881 - val_loss: 0.3505\n",
            "Epoch 17/50\n",
            "\u001b[1m148/148\u001b[0m \u001b[32m━━━━━━━━━━━━━━━━━━━━\u001b[0m\u001b[37m\u001b[0m \u001b[1m377s\u001b[0m 2s/step - accuracy: 0.8696 - loss: 0.4119 - val_accuracy: 0.8907 - val_loss: 0.3310\n",
            "Epoch 18/50\n",
            "\u001b[1m148/148\u001b[0m \u001b[32m━━━━━━━━━━━━━━━━━━━━\u001b[0m\u001b[37m\u001b[0m \u001b[1m347s\u001b[0m 2s/step - accuracy: 0.8741 - loss: 0.3862 - val_accuracy: 0.8722 - val_loss: 0.3791\n",
            "Epoch 19/50\n",
            "\u001b[1m148/148\u001b[0m \u001b[32m━━━━━━━━━━━━━━━━━━━━\u001b[0m\u001b[37m\u001b[0m \u001b[1m346s\u001b[0m 2s/step - accuracy: 0.8817 - loss: 0.3724 - val_accuracy: 0.8907 - val_loss: 0.3180\n",
            "Epoch 20/50\n",
            "\u001b[1m148/148\u001b[0m \u001b[32m━━━━━━━━━━━━━━━━━━━━\u001b[0m\u001b[37m\u001b[0m \u001b[1m379s\u001b[0m 2s/step - accuracy: 0.8812 - loss: 0.3774 - val_accuracy: 0.8852 - val_loss: 0.3214\n",
            "Epoch 21/50\n",
            "\u001b[1m148/148\u001b[0m \u001b[32m━━━━━━━━━━━━━━━━━━━━\u001b[0m\u001b[37m\u001b[0m \u001b[1m345s\u001b[0m 2s/step - accuracy: 0.8778 - loss: 0.3967 - val_accuracy: 0.8885 - val_loss: 0.3535\n",
            "Epoch 22/50\n",
            "\u001b[1m148/148\u001b[0m \u001b[32m━━━━━━━━━━━━━━━━━━━━\u001b[0m\u001b[37m\u001b[0m \u001b[1m346s\u001b[0m 2s/step - accuracy: 0.8887 - loss: 0.3596 - val_accuracy: 0.8856 - val_loss: 0.3805\n",
            "Epoch 23/50\n",
            "\u001b[1m148/148\u001b[0m \u001b[32m━━━━━━━━━━━━━━━━━━━━\u001b[0m\u001b[37m\u001b[0m \u001b[1m385s\u001b[0m 2s/step - accuracy: 0.8849 - loss: 0.3565 - val_accuracy: 0.8870 - val_loss: 0.3682\n",
            "Epoch 24/50\n",
            "\u001b[1m148/148\u001b[0m \u001b[32m━━━━━━━━━━━━━━━━━━━━\u001b[0m\u001b[37m\u001b[0m \u001b[1m348s\u001b[0m 2s/step - accuracy: 0.8939 - loss: 0.3409 - val_accuracy: 0.9033 - val_loss: 0.3056\n",
            "Epoch 25/50\n",
            "\u001b[1m146/148\u001b[0m \u001b[32m━━━━━━━━━━━━━━━━━━━\u001b[0m\u001b[37m━\u001b[0m \u001b[1m4s\u001b[0m 2s/step - accuracy: 0.8947 - loss: 0.3306"
          ]
        }
      ]
    },
    {
      "cell_type": "markdown",
      "source": [
        "Load the model"
      ],
      "metadata": {
        "id": "7XcO1alpaWBb"
      }
    },
    {
      "cell_type": "code",
      "source": [
        "import keras\n",
        "# Now, load the model\n",
        "vmodel = keras.models.load_model('/content/gdrive/MyDrive/VGG16Model (1).h5') #replace the model's name\n"
      ],
      "metadata": {
        "id": "CH9w-KZIP58q",
        "colab": {
          "base_uri": "https://localhost:8080/"
        },
        "outputId": "5a2d50a6-0c7a-456b-94d8-29d90b725d50"
      },
      "execution_count": 28,
      "outputs": [
        {
          "output_type": "stream",
          "name": "stderr",
          "text": [
            "WARNING:absl:Compiled the loaded model, but the compiled metrics have yet to be built. `model.compile_metrics` will be empty until you train or evaluate the model.\n"
          ]
        }
      ]
    },
    {
      "cell_type": "code",
      "source": [
        "# Evaluate the model on the new dataset\n",
        "test_loss, test_accuracy = vmodel.evaluate(testing_split, verbose=1)\n",
        "\n",
        "print(f\"Test Loss: {test_loss}\")\n",
        "print(f\"Test Accuracy: {test_accuracy}\")"
      ],
      "metadata": {
        "id": "QZhOGsE1P5-2",
        "colab": {
          "base_uri": "https://localhost:8080/"
        },
        "outputId": "99b79392-55d1-4cd9-b8d0-da55a7b86295"
      },
      "execution_count": null,
      "outputs": [
        {
          "output_type": "stream",
          "name": "stderr",
          "text": [
            "/usr/local/lib/python3.10/dist-packages/keras/src/trainers/data_adapters/py_dataset_adapter.py:122: UserWarning: Your `PyDataset` class should call `super().__init__(**kwargs)` in its constructor. `**kwargs` can include `workers`, `use_multiprocessing`, `max_queue_size`. Do not pass these arguments to `fit()`, as they will be ignored.\n",
            "  self._warn_if_super_not_called()\n"
          ]
        },
        {
          "output_type": "stream",
          "name": "stdout",
          "text": [
            "\u001b[1m43/43\u001b[0m \u001b[32m━━━━━━━━━━━━━━━━━━━━\u001b[0m\u001b[37m\u001b[0m \u001b[1m101s\u001b[0m 1s/step - accuracy: 0.9315 - loss: 0.2089\n"
          ]
        }
      ]
    },
    {
      "cell_type": "code",
      "source": [
        "\n",
        "from sklearn.metrics import confusion_matrix\n",
        "import pandas as pd\n",
        "import seaborn as sn\n",
        "import matplotlib.pyplot as plt\n",
        "\n",
        "# Training confusion matrix\n",
        "\n",
        "confusion_matrix=confusion_matrix(train_labels,classes_x )\n"
      ],
      "metadata": {
        "colab": {
          "base_uri": "https://localhost:8080/",
          "height": 141
        },
        "id": "qVIjb5iLfrHJ",
        "outputId": "b88fdc96-fdeb-49fd-8107-ac9e6aa1bb32"
      },
      "execution_count": null,
      "outputs": [
        {
          "output_type": "error",
          "ename": "NameError",
          "evalue": "name 'classes_x' is not defined",
          "traceback": [
            "\u001b[0;31m---------------------------------------------------------------------------\u001b[0m",
            "\u001b[0;31mNameError\u001b[0m                                 Traceback (most recent call last)",
            "\u001b[0;32m<ipython-input-26-863c5d79fc87>\u001b[0m in \u001b[0;36m<cell line: 1>\u001b[0;34m()\u001b[0m\n\u001b[0;32m----> 1\u001b[0;31m \u001b[0mconfusion_matrix\u001b[0m\u001b[0;34m=\u001b[0m\u001b[0mconfusion_matrix\u001b[0m\u001b[0;34m(\u001b[0m\u001b[0mtrain_labels\u001b[0m\u001b[0;34m,\u001b[0m\u001b[0mclasses_x\u001b[0m \u001b[0;34m)\u001b[0m\u001b[0;34m\u001b[0m\u001b[0;34m\u001b[0m\u001b[0m\n\u001b[0m",
            "\u001b[0;31mNameError\u001b[0m: name 'classes_x' is not defined"
          ]
        }
      ]
    },
    {
      "cell_type": "code",
      "source": [
        "import numpy as np\n",
        "from PIL import Image\n",
        "import tensorflow as tf\n",
        "\n",
        "def preprocess_image(image_path):\n",
        "    img = Image.open(image_path)\n",
        "    img = img.resize((256,256))  # Resize to the expected input shape\n",
        "    img = np.array(img) / 255.0  # Normalize pixel values to [0,1]\n",
        "    # Add a batch dimension (required by Keras)\n",
        "    img = img.reshape((1, img.shape[0], img.shape[1], img.shape[2]))\n",
        "    return img\n",
        "\n",
        "# Example usage:\n",
        "image_path = '/content/highway.jpeg'  # Replace with your RGB image path\n",
        "input_image = preprocess_image(image_path)\n",
        "\n",
        "# Now input_image is in the correct shape and format to be fed into the model:\n",
        "# (batch_size, height, width, channels) = (1, 256, 256, 3)\n",
        "prediction=vmodel.predict(input_image)\n",
        "\n",
        "prediction"
      ],
      "metadata": {
        "id": "eMgMrvxrP6A8",
        "colab": {
          "base_uri": "https://localhost:8080/"
        },
        "outputId": "de069929-5a04-4154-aab4-99594db65591"
      },
      "execution_count": null,
      "outputs": [
        {
          "output_type": "stream",
          "name": "stdout",
          "text": [
            "\u001b[1m1/1\u001b[0m \u001b[32m━━━━━━━━━━━━━━━━━━━━\u001b[0m\u001b[37m\u001b[0m \u001b[1m6s\u001b[0m 6s/step\n"
          ]
        },
        {
          "output_type": "execute_result",
          "data": {
            "text/plain": [
              "array([[4.3078387e-26, 4.1012306e-35, 3.0096300e-14, 8.8943911e-01,\n",
              "        9.4852805e-07, 2.9093813e-37, 2.2609138e-16, 1.1055992e-01,\n",
              "        2.3749325e-09, 1.7909996e-41]], dtype=float32)"
            ]
          },
          "metadata": {},
          "execution_count": 10
        }
      ]
    },
    {
      "cell_type": "code",
      "source": [
        "# Find the index of the largest value in the array\n",
        "predicted_class = np.argmax(prediction)\n",
        "\n",
        "# Find the largest value itself\n",
        "max_value = np.max(prediction)\n",
        "\n",
        "print(f\"The predicted class is: {predicted_class}\")\n",
        "print(f\"The largest probability is: {max_value}\")\n",
        "\n",
        "\n",
        "# Dictionary of class labels\n",
        "class_labels = {'AnnualCrop': 0, 'Forest': 1, 'HerbaceousVegetation': 2, 'Highway': 3,\n",
        "                'Industrial': 4, 'Pasture': 5, 'PermanentCrop': 6, 'Residential': 7,\n",
        "                'River': 8, 'SeaLake': 9}\n",
        "\n",
        "# Invert the dictionary to map index to class labels\n",
        "index_to_class = {v: k for k, v in class_labels.items()}\n",
        "\n",
        "# Iterate over the predictions and print the class along with the probability\n",
        "for idx, probability in enumerate(prediction[0]):\n",
        "    class_name = index_to_class[idx]\n",
        "    print(f\"Class: {class_name}, Probability: {probability:.6f}\")"
      ],
      "metadata": {
        "colab": {
          "base_uri": "https://localhost:8080/"
        },
        "id": "svILvOXt0AY5",
        "outputId": "d16f8f31-215e-4439-cc9e-0471ea4dc72e"
      },
      "execution_count": null,
      "outputs": [
        {
          "output_type": "stream",
          "name": "stdout",
          "text": [
            "The predicted class is: 3\n",
            "The largest probability is: 0.8894391059875488\n",
            "Class: AnnualCrop, Probability: 0.000000\n",
            "Class: Forest, Probability: 0.000000\n",
            "Class: HerbaceousVegetation, Probability: 0.000000\n",
            "Class: Highway, Probability: 0.889439\n",
            "Class: Industrial, Probability: 0.000001\n",
            "Class: Pasture, Probability: 0.000000\n",
            "Class: PermanentCrop, Probability: 0.000000\n",
            "Class: Residential, Probability: 0.110560\n",
            "Class: River, Probability: 0.000000\n",
            "Class: SeaLake, Probability: 0.000000\n"
          ]
        }
      ]
    },
    {
      "cell_type": "code",
      "source": [
        "# import numpy as np\n",
        "# import pandas as pd\n",
        "# import seaborn as sns\n",
        "# import matplotlib.pyplot as plt\n",
        "# from sklearn.metrics import confusion_matrix\n",
        "# from tensorflow.keras.models import load_model\n",
        "# from tensorflow.keras.preprocessing.image import ImageDataGenerator\n",
        "\n",
        "\n",
        "# # Get predictions for the entire training data\n",
        "# training_split.reset()  # Ensure the generator is at the start\n",
        "# train_predictions = vmodel.predict(training_split, steps=len(training_split))\n",
        "# train_predictions_indices = np.argmax(train_predictions, axis=1)\n",
        "\n",
        "# # Extract true labels from the generator\n",
        "# train_labels_indices = training_split.classes\n",
        "\n",
        "# # Compute confusion matrix\n",
        "# cm_train = confusion_matrix(train_labels_indices, train_predictions_indices)\n",
        "\n",
        "# # Define class names (make sure they match the class names used in your model)\n",
        "# class_names = list(training_split.class_indices.keys())\n",
        "\n",
        "# # Create a DataFrame for better visualization\n",
        "# df_cm = pd.DataFrame(cm_train, index=class_names, columns=class_names)\n",
        "\n",
        "# # Plot confusion matrix\n",
        "# plt.figure(figsize=(10, 8))\n",
        "# sns.set(font_scale=1.4)  # For label size\n",
        "# sns.heatmap(df_cm, annot=True, fmt='d', cmap='Blues')\n",
        "# plt.title('Training Data Confusion Matrix', fontsize=15, weight='bold')\n",
        "# plt.xlabel('Predicted Class', fontsize=15, labelpad=30)\n",
        "# plt.ylabel('True Class', fontsize=15, labelpad=30)\n",
        "# plt.xticks(rotation=45)  # Rotate x labels if needed\n",
        "# plt.yticks(rotation=0)   # Rotate y labels if needed\n",
        "# plt.show()\n",
        "\n",
        "from sklearn.metrics import confusion_matrix, ConfusionMatrixDisplay\n",
        "\n",
        "# Generate predictions for the test set\n",
        "test_predictions = vmodel.predict(testing_split)\n",
        "test_pred_classes = np.argmax(test_predictions, axis=1)\n",
        "\n",
        "# Compute confusion matrix\n",
        "cm = confusion_matrix(testing_split.classes, test_pred_classes)\n",
        "\n",
        "# Display the confusion matrix\n",
        "disp = ConfusionMatrixDisplay(confusion_matrix=cm, display_labels=testing_split.class_indices)\n",
        "disp.plot(cmap=plt.cm.Blues)\n",
        "plt.show()\n",
        "\n"
      ],
      "metadata": {
        "colab": {
          "base_uri": "https://localhost:8080/",
          "height": 485
        },
        "id": "eQDvcEdekTI4",
        "outputId": "e40a2c19-7df3-4bfc-95d1-d0856ac3b4a7"
      },
      "execution_count": null,
      "outputs": [
        {
          "output_type": "stream",
          "name": "stdout",
          "text": [
            "\u001b[1m43/43\u001b[0m \u001b[32m━━━━━━━━━━━━━━━━━━━━\u001b[0m\u001b[37m\u001b[0m \u001b[1m27s\u001b[0m 619ms/step\n"
          ]
        },
        {
          "output_type": "display_data",
          "data": {
            "text/plain": [
              "<Figure size 640x480 with 2 Axes>"
            ],
            "image/png": "[encoded data removed]"
          },
          "metadata": {}
        }
      ]
    },
    {
      "cell_type": "code",
      "source": [
        "import rasterio\n",
        "from rasterio.plot import show\n",
        "import matplotlib.pyplot as plt\n"
      ],
      "metadata": {
        "id": "MHIXiXgO9xcY"
      },
      "execution_count": null,
      "outputs": []
    },
    {
      "cell_type": "code",
      "source": [
        "file_path = '/content/gdrive/MyDrive/Islamabad_Sentinel2-0000000000-0000004608.tif'\n",
        "with rasterio.open(file_path) as src:\n",
        "    print(src.profile)  # Prints metadata\n",
        "    image_data = src.read([1, 2, 3])  # Read the first three bands (assuming they are RGB)\n",
        "\n",
        "\n",
        "\n",
        "# Assuming you have read the data using rasterio\n",
        "min_val = np.min(image_data)\n",
        "max_val = np.max(image_data)\n",
        "print(f\"Min value: {min_val}, Max value: {max_val}\")\n",
        "\n"
      ],
      "metadata": {
        "colab": {
          "base_uri": "https://localhost:8080/"
        },
        "id": "fLLaxqXTX_gQ",
        "outputId": "a47e7702-3c2c-4430-ae69-9dce8ddbf75b"
      },
      "execution_count": null,
      "outputs": [
        {
          "output_type": "stream",
          "name": "stdout",
          "text": [
            "{'driver': 'GTiff', 'dtype': 'float64', 'nodata': None, 'width': 1833, 'height': 3566, 'count': 26, 'crs': CRS.from_epsg(4326), 'transform': Affine(8.983152841195215e-05, 0.0, 73.22563139583232,\n",
            "       0.0, -8.983152841195215e-05, 33.810521169105314), 'blockxsize': 256, 'blockysize': 256, 'tiled': True, 'compress': 'lzw', 'interleave': 'pixel'}\n",
            "Min value: 0.0, Max value: 9808.0\n"
          ]
        }
      ]
    },
    {
      "cell_type": "code",
      "source": [
        "\n",
        "plt.figure(figsize=(10, 10))\n",
        "show(image_data, transform=src.transform)\n",
        "plt.title(\"RGB Image from GeoTIFF\")\n",
        "plt.axis('off')  # Hide axes for better visualization\n",
        "plt.show()\n"
      ],
      "metadata": {
        "id": "5kBVUy1QaFny"
      },
      "execution_count": null,
      "outputs": []
    },
    {
      "cell_type": "code",
      "source": [
        "# Assuming that Bands 4, 3, 2 correspond to Red, Green, Blue\n",
        "with rasterio.open(file_path) as src:\n",
        "    red_band = src.read(4)  # Band 4\n",
        "    green_band = src.read(3)  # Band 3\n",
        "    blue_band = src.read(2)  # Band 2\n"
      ],
      "metadata": {
        "id": "nMldx9-oaWAz"
      },
      "execution_count": null,
      "outputs": []
    },
    {
      "cell_type": "code",
      "source": [
        "min_val = 0\n",
        "max_val = 3000\n",
        "\n",
        "# Clip and normalize\n",
        "red_band_normalized = np.clip(red_band, min_val, max_val) / max_val\n",
        "green_band_normalized = np.clip(green_band, min_val, max_val) / max_val\n",
        "blue_band_normalized = np.clip(blue_band, min_val, max_val) / max_val\n",
        "\n",
        "\n",
        "gamma = 1.4\n",
        "\n",
        "# Apply gamma correction\n",
        "red_band_corrected = np.power(red_band_normalized, 1/gamma)\n",
        "green_band_corrected = np.power(green_band_normalized, 1/gamma)\n",
        "blue_band_corrected = np.power(blue_band_normalized, 1/gamma)\n",
        "\n",
        "# Stack the bands into an RGB image\n",
        "image_rgb = np.dstack((red_band_corrected, green_band_corrected, blue_band_corrected))\n",
        "\n",
        "# Display the image\n",
        "plt.figure(figsize=(10, 10))\n",
        "plt.imshow(image_rgb)\n",
        "plt.axis('off')\n",
        "plt.show()"
      ],
      "metadata": {
        "id": "XJ1QJ6v3aZ6R"
      },
      "execution_count": null,
      "outputs": []
    },
    {
      "cell_type": "code",
      "source": [
        "\n",
        "\n",
        "# install pyrsgis library\n",
        "!pip install pyrsgis"
      ],
      "metadata": {
        "colab": {
          "base_uri": "https://localhost:8080/"
        },
        "id": "jI6_PjH1dLEO",
        "outputId": "2ce1234d-28d0-458d-a405-b6ae14eb6538"
      },
      "execution_count": null,
      "outputs": [
        {
          "output_type": "stream",
          "name": "stdout",
          "text": [
            "Collecting pyrsgis\n",
            "  Downloading pyrsgis-0.4.1-py3-none-any.whl.metadata (14 kB)\n",
            "Downloading pyrsgis-0.4.1-py3-none-any.whl (25 kB)\n",
            "Installing collected packages: pyrsgis\n",
            "Successfully installed pyrsgis-0.4.1\n"
          ]
        }
      ]
    }
  ],
  "metadata": {
    "colab": {
      "provenance": [],
      "gpuType": "T4"
    },
    "kernelspec": {
      "display_name": "Python 3",
      "name": "python3"
    },
    "language_info": {
      "name": "python"
    },
    "accelerator": "GPU"
  },
  "nbformat": 4,
  "nbformat_minor": 0
}